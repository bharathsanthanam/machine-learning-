{
 "cells": [
  {
   "cell_type": "code",
   "execution_count": 33,
   "metadata": {
    "collapsed": true
   },
   "outputs": [],
   "source": [
    "import numpy as np\n",
    "import matplotlib.pyplot as plt\n",
    "import pandas as pd"
   ]
  },
  {
   "cell_type": "code",
   "execution_count": 34,
   "metadata": {
    "scrolled": true
   },
   "outputs": [
    {
     "name": "stdout",
     "output_type": "stream",
     "text": [
      "    Marks in first exam   Marks in second exam   Admit/No admit\n",
      "0             34.623660              78.024693                0\n",
      "1             30.286711              43.894998                0\n",
      "2             35.847409              72.902198                0\n",
      "3             60.182599              86.308552                1\n",
      "4             79.032736              75.344376                1\n",
      "5             45.083277              56.316372                0\n",
      "6             61.106665              96.511426                1\n",
      "7             75.024746              46.554014                1\n",
      "8             76.098787              87.420570                1\n",
      "9             84.432820              43.533393                1\n",
      "10            95.861555              38.225278                0\n",
      "11            75.013658              30.603263                0\n",
      "12            82.307053              76.481963                1\n",
      "13            69.364589              97.718692                1\n",
      "14            39.538339              76.036811                0\n",
      "15            53.971052              89.207350                1\n",
      "16            69.070144              52.740470                1\n",
      "17            67.946855              46.678574                0\n",
      "18            70.661510              92.927138                1\n",
      "19            76.978784              47.575964                1\n",
      "20            67.372028              42.838438                0\n",
      "21            89.676776              65.799366                1\n",
      "22            50.534788              48.855812                0\n",
      "23            34.212061              44.209529                0\n",
      "24            77.924091              68.972360                1\n",
      "25            62.271014              69.954458                1\n",
      "26            80.190181              44.821629                1\n",
      "27            93.114389              38.800670                0\n",
      "28            61.830206              50.256108                0\n",
      "29            38.785804              64.995681                0\n",
      "..                  ...                    ...              ...\n",
      "70            32.722833              43.307173                0\n",
      "71            64.039320              78.031688                1\n",
      "72            72.346494              96.227593                1\n",
      "73            60.457886              73.094998                1\n",
      "74            58.840956              75.858448                1\n",
      "75            99.827858              72.369252                1\n",
      "76            47.264269              88.475865                1\n",
      "77            50.458160              75.809860                1\n",
      "78            60.455556              42.508409                0\n",
      "79            82.226662              42.719879                0\n",
      "80            88.913896              69.803789                1\n",
      "81            94.834507              45.694307                1\n",
      "82            67.319257              66.589353                1\n",
      "83            57.238706              59.514282                1\n",
      "84            80.366756              90.960148                1\n",
      "85            68.468522              85.594307                1\n",
      "86            42.075455              78.844786                0\n",
      "87            75.477702              90.424539                1\n",
      "88            78.635424              96.647427                1\n",
      "89            52.348004              60.769505                0\n",
      "90            94.094331              77.159105                1\n",
      "91            90.448551              87.508792                1\n",
      "92            55.482161              35.570703                0\n",
      "93            74.492692              84.845137                1\n",
      "94            89.845807              45.358284                1\n",
      "95            83.489163              48.380286                1\n",
      "96            42.261701              87.103851                1\n",
      "97            99.315009              68.775409                1\n",
      "98            55.340018              64.931938                1\n",
      "99            74.775893              89.529813                1\n",
      "\n",
      "[100 rows x 3 columns]\n"
     ]
    }
   ],
   "source": [
    "#Using Pandas to Visualize the data\n",
    "df = pd.read_csv('data.csv')\n",
    "print(df)"
   ]
  },
  {
   "cell_type": "code",
   "execution_count": 35,
   "metadata": {},
   "outputs": [
    {
     "data": {
      "text/html": [
       "<div>\n",
       "<style>\n",
       "    .dataframe thead tr:only-child th {\n",
       "        text-align: right;\n",
       "    }\n",
       "\n",
       "    .dataframe thead th {\n",
       "        text-align: left;\n",
       "    }\n",
       "\n",
       "    .dataframe tbody tr th {\n",
       "        vertical-align: top;\n",
       "    }\n",
       "</style>\n",
       "<table border=\"1\" class=\"dataframe\">\n",
       "  <thead>\n",
       "    <tr style=\"text-align: right;\">\n",
       "      <th></th>\n",
       "      <th>Marks in first exam</th>\n",
       "      <th>Marks in second exam</th>\n",
       "      <th>Admit/No admit</th>\n",
       "    </tr>\n",
       "  </thead>\n",
       "  <tbody>\n",
       "    <tr>\n",
       "      <th>0</th>\n",
       "      <td>34.623660</td>\n",
       "      <td>78.024693</td>\n",
       "      <td>0</td>\n",
       "    </tr>\n",
       "    <tr>\n",
       "      <th>1</th>\n",
       "      <td>30.286711</td>\n",
       "      <td>43.894998</td>\n",
       "      <td>0</td>\n",
       "    </tr>\n",
       "    <tr>\n",
       "      <th>2</th>\n",
       "      <td>35.847409</td>\n",
       "      <td>72.902198</td>\n",
       "      <td>0</td>\n",
       "    </tr>\n",
       "    <tr>\n",
       "      <th>3</th>\n",
       "      <td>60.182599</td>\n",
       "      <td>86.308552</td>\n",
       "      <td>1</td>\n",
       "    </tr>\n",
       "    <tr>\n",
       "      <th>4</th>\n",
       "      <td>79.032736</td>\n",
       "      <td>75.344376</td>\n",
       "      <td>1</td>\n",
       "    </tr>\n",
       "  </tbody>\n",
       "</table>\n",
       "</div>"
      ],
      "text/plain": [
       "   Marks in first exam   Marks in second exam   Admit/No admit\n",
       "0            34.623660              78.024693                0\n",
       "1            30.286711              43.894998                0\n",
       "2            35.847409              72.902198                0\n",
       "3            60.182599              86.308552                1\n",
       "4            79.032736              75.344376                1"
      ]
     },
     "execution_count": 35,
     "metadata": {},
     "output_type": "execute_result"
    }
   ],
   "source": [
    "X = df.iloc[:,:-1]\n",
    "y = df.iloc[:,2]\n",
    "df.head()"
   ]
  },
  {
   "cell_type": "code",
   "execution_count": null,
   "metadata": {
    "collapsed": true
   },
   "outputs": [],
   "source": []
  },
  {
   "cell_type": "code",
   "execution_count": 36,
   "metadata": {
    "scrolled": false
   },
   "outputs": [
    {
     "name": "stdout",
     "output_type": "stream",
     "text": [
      "    Marks in first exam   Marks in second exam\n",
      "0             34.623660              78.024693\n",
      "1             30.286711              43.894998\n",
      "2             35.847409              72.902198\n",
      "3             60.182599              86.308552\n",
      "4             79.032736              75.344376\n",
      "5             45.083277              56.316372\n",
      "6             61.106665              96.511426\n",
      "7             75.024746              46.554014\n",
      "8             76.098787              87.420570\n",
      "9             84.432820              43.533393\n",
      "10            95.861555              38.225278\n",
      "11            75.013658              30.603263\n",
      "12            82.307053              76.481963\n",
      "13            69.364589              97.718692\n",
      "14            39.538339              76.036811\n",
      "15            53.971052              89.207350\n",
      "16            69.070144              52.740470\n",
      "17            67.946855              46.678574\n",
      "18            70.661510              92.927138\n",
      "19            76.978784              47.575964\n",
      "20            67.372028              42.838438\n",
      "21            89.676776              65.799366\n",
      "22            50.534788              48.855812\n",
      "23            34.212061              44.209529\n",
      "24            77.924091              68.972360\n",
      "25            62.271014              69.954458\n",
      "26            80.190181              44.821629\n",
      "27            93.114389              38.800670\n",
      "28            61.830206              50.256108\n",
      "29            38.785804              64.995681\n",
      "..                  ...                    ...\n",
      "70            32.722833              43.307173\n",
      "71            64.039320              78.031688\n",
      "72            72.346494              96.227593\n",
      "73            60.457886              73.094998\n",
      "74            58.840956              75.858448\n",
      "75            99.827858              72.369252\n",
      "76            47.264269              88.475865\n",
      "77            50.458160              75.809860\n",
      "78            60.455556              42.508409\n",
      "79            82.226662              42.719879\n",
      "80            88.913896              69.803789\n",
      "81            94.834507              45.694307\n",
      "82            67.319257              66.589353\n",
      "83            57.238706              59.514282\n",
      "84            80.366756              90.960148\n",
      "85            68.468522              85.594307\n",
      "86            42.075455              78.844786\n",
      "87            75.477702              90.424539\n",
      "88            78.635424              96.647427\n",
      "89            52.348004              60.769505\n",
      "90            94.094331              77.159105\n",
      "91            90.448551              87.508792\n",
      "92            55.482161              35.570703\n",
      "93            74.492692              84.845137\n",
      "94            89.845807              45.358284\n",
      "95            83.489163              48.380286\n",
      "96            42.261701              87.103851\n",
      "97            99.315009              68.775409\n",
      "98            55.340018              64.931938\n",
      "99            74.775893              89.529813\n",
      "\n",
      "[100 rows x 2 columns]\n",
      "x                               0          1          2          3          4   \\\n",
      "Marks in first exam    34.623660  30.286711  35.847409  60.182599  79.032736   \n",
      " Marks in second exam  78.024693  43.894998  72.902198  86.308552  75.344376   \n",
      "\n",
      "                              5          6          7          8          9   \\\n",
      "Marks in first exam    45.083277  61.106665  75.024746  76.098787  84.432820   \n",
      " Marks in second exam  56.316372  96.511426  46.554014  87.420570  43.533393   \n",
      "\n",
      "                         ...             90         91         92         93  \\\n",
      "Marks in first exam      ...      94.094331  90.448551  55.482161  74.492692   \n",
      " Marks in second exam    ...      77.159105  87.508792  35.570703  84.845137   \n",
      "\n",
      "                              94         95         96         97         98  \\\n",
      "Marks in first exam    89.845807  83.489163  42.261701  99.315009  55.340018   \n",
      " Marks in second exam  45.358284  48.380286  87.103851  68.775409  64.931938   \n",
      "\n",
      "                              99  \n",
      "Marks in first exam    74.775893  \n",
      " Marks in second exam  89.529813  \n",
      "\n",
      "[2 rows x 100 columns]\n",
      "Order of X (2, 100)\n",
      "0     0\n",
      "1     0\n",
      "2     0\n",
      "3     1\n",
      "4     1\n",
      "5     0\n",
      "6     1\n",
      "7     1\n",
      "8     1\n",
      "9     1\n",
      "10    0\n",
      "11    0\n",
      "12    1\n",
      "13    1\n",
      "14    0\n",
      "15    1\n",
      "16    1\n",
      "17    0\n",
      "18    1\n",
      "19    1\n",
      "20    0\n",
      "21    1\n",
      "22    0\n",
      "23    0\n",
      "24    1\n",
      "25    1\n",
      "26    1\n",
      "27    0\n",
      "28    0\n",
      "29    0\n",
      "     ..\n",
      "70    0\n",
      "71    1\n",
      "72    1\n",
      "73    1\n",
      "74    1\n",
      "75    1\n",
      "76    1\n",
      "77    1\n",
      "78    0\n",
      "79    0\n",
      "80    1\n",
      "81    1\n",
      "82    1\n",
      "83    1\n",
      "84    1\n",
      "85    1\n",
      "86    0\n",
      "87    1\n",
      "88    1\n",
      "89    0\n",
      "90    1\n",
      "91    1\n",
      "92    0\n",
      "93    1\n",
      "94    1\n",
      "95    1\n",
      "96    1\n",
      "97    1\n",
      "98    1\n",
      "99    1\n",
      "Name:  Admit/No admit, Length: 100, dtype: int64\n"
     ]
    },
    {
     "name": "stderr",
     "output_type": "stream",
     "text": [
      "C:\\Users\\sanbh\\Anaconda3\\lib\\site-packages\\ipykernel_launcher.py:8: FutureWarning: reshape is deprecated and will raise in a subsequent release. Please use .values.reshape(...) instead\n",
      "  \n"
     ]
    },
    {
     "ename": "NameError",
     "evalue": "name 'y1' is not defined",
     "output_type": "error",
     "traceback": [
      "\u001b[1;31m---------------------------------------------------------------------------\u001b[0m",
      "\u001b[1;31mNameError\u001b[0m                                 Traceback (most recent call last)",
      "\u001b[1;32m<ipython-input-36-ccfdef05358d>\u001b[0m in \u001b[0;36m<module>\u001b[1;34m()\u001b[0m\n\u001b[0;32m      8\u001b[0m \u001b[0mY\u001b[0m\u001b[1;33m=\u001b[0m\u001b[0my\u001b[0m\u001b[1;33m.\u001b[0m\u001b[0mreshape\u001b[0m\u001b[1;33m(\u001b[0m\u001b[1;33m-\u001b[0m\u001b[1;36m1\u001b[0m\u001b[1;33m,\u001b[0m\u001b[1;36m1\u001b[0m\u001b[1;33m)\u001b[0m\u001b[1;33m.\u001b[0m\u001b[0mT\u001b[0m\u001b[1;33m\u001b[0m\u001b[0m\n\u001b[0;32m      9\u001b[0m \u001b[1;31m#y1=Y.reshape(-1,1).T\u001b[0m\u001b[1;33m\u001b[0m\u001b[1;33m\u001b[0m\u001b[0m\n\u001b[1;32m---> 10\u001b[1;33m \u001b[0mprint\u001b[0m\u001b[1;33m(\u001b[0m\u001b[0my1\u001b[0m\u001b[1;33m)\u001b[0m\u001b[1;33m\u001b[0m\u001b[0m\n\u001b[0m\u001b[0;32m     11\u001b[0m \u001b[0mprint\u001b[0m\u001b[1;33m(\u001b[0m\u001b[1;34m\"Order of Y\"\u001b[0m\u001b[1;33m,\u001b[0m\u001b[0mY\u001b[0m\u001b[1;33m.\u001b[0m\u001b[0mshape\u001b[0m\u001b[1;33m)\u001b[0m\u001b[1;33m\u001b[0m\u001b[0m\n\u001b[0;32m     12\u001b[0m \u001b[1;31m#M=X.shape[1]\u001b[0m\u001b[1;33m\u001b[0m\u001b[1;33m\u001b[0m\u001b[0m\n",
      "\u001b[1;31mNameError\u001b[0m: name 'y1' is not defined"
     ]
    }
   ],
   "source": [
    "x = df.iloc[:, :-1]\n",
    "print(x)\n",
    "X=x.T\n",
    "print(\"x\",X)\n",
    "print(\"Order of X\",X.shape)\n",
    "y = df.iloc[:, -1]\n",
    "print(y)\n",
    "Y=y.reshape(-1,1).T\n",
    "#y1=Y.reshape(-1,1).T\n",
    "print(y1)  \n",
    "print(\"Order of Y\",Y.shape)\n",
    "#M=X.shape[1]\n",
    "#print(M)"
   ]
  },
  {
   "cell_type": "code",
   "execution_count": 37,
   "metadata": {},
   "outputs": [
    {
     "data": {
      "image/png": "[encoded data removed]",
      "text/plain": [
       "<matplotlib.figure.Figure at 0x24e42e9ab38>"
      ]
     },
     "metadata": {},
     "output_type": "display_data"
    }
   ],
   "source": [
    "admitted = df.loc[y == 1]\n",
    "\n",
    "not_admitted = df.loc[y == 0]\n",
    "\n",
    "# plots\n",
    "plt.scatter(admitted.iloc[:, 0], admitted.iloc[:, 1], s=10, label='Admitted')\n",
    "plt.scatter(not_admitted.iloc[:, 0], not_admitted.iloc[:, 1], s=10, label='Not Admitted')\n",
    "plt.legend()\n",
    "plt.show()\n"
   ]
  },
  {
   "cell_type": "code",
   "execution_count": 38,
   "metadata": {
    "collapsed": true
   },
   "outputs": [],
   "source": [
    "def sigmoid(z):\n",
    "    \"\"\"\n",
    "    Compute the sigmoid of z\n",
    "\n",
    "    Arguments:\n",
    "    x -- A scalar or numpy array of any size.\n",
    "\n",
    "    Return:\n",
    "    s -- sigmoid(z)\n",
    "    \"\"\"\n",
    "\n",
    "    ### START CODE HERE ### (≈ 1 line of code)\n",
    "    s = 1 / (1 + np.exp(-z))\n",
    "    ### END CODE HERE ###\n",
    "    \n",
    "    return s"
   ]
  },
  {
   "cell_type": "code",
   "execution_count": 39,
   "metadata": {},
   "outputs": [
    {
     "name": "stdout",
     "output_type": "stream",
     "text": [
      "0.73105857863\n"
     ]
    }
   ],
   "source": [
    "#Check the function\n",
    "print(sigmoid(1))\n"
   ]
  },
  {
   "cell_type": "code",
   "execution_count": 40,
   "metadata": {
    "collapsed": true
   },
   "outputs": [],
   "source": [
    "#iNITIALIZE WEIGHTS AND BIAS\n",
    "def initialize_with_zeros(dim):\n",
    "    \"\"\"\n",
    "    This function creates a vector of zeros of shape (dim, 1) for w and initializes b to 0.\n",
    "    \n",
    "    Argument:\n",
    "    dim -- size of the w vector we want (or number of parameters in this case)\n",
    "    \n",
    "    Returns:\n",
    "    w -- initialized vector of shape (dim, 1)\n",
    "    b -- initialized scalar (corresponds to the bias)\n",
    "    \"\"\"\n",
    "    \n",
    "    ### START CODE HERE ### (≈ 1 line of code)\n",
    "    \n",
    "    w = np.zeros(shape=(dim, 1))\n",
    "    b = 0\n",
    "    ### END CODE HERE ###\n",
    "\n",
    "    assert(w.shape == (dim, 1))\n",
    "    assert(isinstance(b, float) or isinstance(b, int))\n",
    "    \n",
    "    \n",
    "    return w, b"
   ]
  },
  {
   "cell_type": "code",
   "execution_count": 41,
   "metadata": {},
   "outputs": [
    {
     "name": "stdout",
     "output_type": "stream",
     "text": [
      "w = [[ 0.]\n",
      " [ 0.]]\n",
      "b = 0\n",
      "m= 100\n",
      "n= 2\n"
     ]
    }
   ],
   "source": [
    "dim = 2\n",
    "w, b = initialize_with_zeros(dim)\n",
    "print (\"w = \" + str(w))\n",
    "print (\"b = \" + str(b))\n",
    "m=X.shape[1]\n",
    "print(\"m=\",m)\n",
    "n=X.shape[0]\n",
    "print(\"n=\",n)"
   ]
  },
  {
   "cell_type": "code",
   "execution_count": 42,
   "metadata": {
    "collapsed": true
   },
   "outputs": [],
   "source": [
    "def propagation(w,b,X,Y):\n",
    "    #activation \n",
    "    m=X.shape[1]\n",
    "    A= sigmoid(np.dot(w.T,X)+b)\n",
    "    #print(\"shape of A=\",A.shape)\n",
    "    #cost = (- 1 / m) * np.sum(Y * np.log(A) + (1 - Y) * (np.log(1 - A)))\n",
    "    cost=(-1/m)*np.sum(Y*np.log(A)+(1-Y)*(np.log(1-A)))\n",
    "    #Back-prop\n",
    "    dz=A-Y\n",
    "    #print(\"shape of dz\",dz.shape)\n",
    "    \n",
    "    dw=(1/m)*np.dot(X,dz.T)\n",
    "    #print(\"shape of dw\",dw.shape)\n",
    "    db=(1/m)*np.sum(dz)\n",
    "    \n",
    "    assert(dw.shape == w.shape)\n",
    "    assert(db.dtype == float)\n",
    "    cost = np.squeeze(cost)\n",
    "    assert(cost.shape == ())\n",
    "    \n",
    "    grads = {\"dw\": dw,\n",
    "             \"db\": db}\n",
    "    \n",
    "    return grads,cost\n",
    "    \n",
    "                        \n",
    "    "
   ]
  },
  {
   "cell_type": "code",
   "execution_count": 43,
   "metadata": {
    "collapsed": true
   },
   "outputs": [],
   "source": [
    "#checking Dimensions\n",
    "#X=np.array([[1,2],[3,4]])\n",
    "\n",
    "#Y=np.array([1,0])\n",
    "#W=np.array([1,2])\n",
    "#b=1\n",
    "#print(np.dot(w.T,X)+b)\n",
    "\n",
    "      \n",
    "#print(np.dot(W.T,X)+b)\n",
    "#print(propagation(W,b,X,Y))\n"
   ]
  },
  {
   "cell_type": "code",
   "execution_count": 44,
   "metadata": {
    "collapsed": true
   },
   "outputs": [],
   "source": [
    "# Optimize using Gradient Descent Algorithm\n",
    "def optimize(w, b, X, Y, num_iterations, learning_rate, print_cost = False):\n",
    "    \"\"\"\n",
    "    This function optimizes w and b by running a gradient descent algorithm\n",
    "    \n",
    "    Arguments:\n",
    "    w -- weights, a numpy array of size (num_px * num_px * 3, 1)\n",
    "    b -- bias, a scalar\n",
    "    X -- data of shape (num_px * num_px * 3, number of examples)\n",
    "    Y -- true \"label\" vector (containing 0 if non-cat, 1 if cat), of shape (1, number of examples)\n",
    "    num_iterations -- number of iterations of the optimization loop\n",
    "    learning_rate -- learning rate of the gradient descent update rule\n",
    "    print_cost -- True to print the loss every 100 steps\n",
    "    \n",
    "    Returns:\n",
    "    params -- dictionary containing the weights w and bias b\n",
    "    grads -- dictionary containing the gradients of the weights and bias with respect to the cost function\n",
    "    costs -- list of all the costs computed during the optimization, this will be used to plot the learning curve.\n",
    "    \n",
    "    Tips:\n",
    "    You basically need to write down two steps and iterate through them:\n",
    "        1) Calculate the cost and the gradient for the current parameters. Use propagate().\n",
    "        2) Update the parameters using gradient descent rule for w and b.\n",
    "    \"\"\"\n",
    "    \n",
    "    costs = []\n",
    "    \n",
    "    #while cost>0.001\n",
    "    for i in range(num_iterations):\n",
    "        \n",
    "        \n",
    "        # Cost and gradient calculation (≈ 1-4 lines of code)\n",
    "        ### START CODE HERE ### \n",
    "        grads, cost = propagation(w, b, X, Y)\n",
    "        #if cost<0.005:\n",
    "         #   break\n",
    "        ### END CODE HERE ###\n",
    "        \n",
    "        # Retrieve derivatives from grads\n",
    "        dw = grads[\"dw\"]\n",
    "        db = grads[\"db\"]\n",
    "        \n",
    "        # update rule (≈ 2 lines of code)\n",
    "        ### START CODE HERE ###\n",
    "        w = w - learning_rate * dw  # need to broadcast\n",
    "        b = b - learning_rate * db\n",
    "        ### END CODE HERE ###\n",
    "        \n",
    "    params = {\"w\": w,\n",
    "              \"b\": b}\n",
    "    \n",
    "    grads = {\"dw\": dw,\n",
    "             \"db\": db}\n",
    "    \n",
    "    return params, grads, costs\n"
   ]
  },
  {
   "cell_type": "code",
   "execution_count": 45,
   "metadata": {
    "scrolled": true
   },
   "outputs": [
    {
     "name": "stdout",
     "output_type": "stream",
     "text": [
      "w [[ 0.]\n",
      " [ 0.]]\n",
      "b= 0\n"
     ]
    },
    {
     "name": "stderr",
     "output_type": "stream",
     "text": [
      "C:\\Users\\sanbh\\Anaconda3\\lib\\site-packages\\ipykernel_launcher.py:7: RuntimeWarning: divide by zero encountered in log\n",
      "  import sys\n",
      "C:\\Users\\sanbh\\Anaconda3\\lib\\site-packages\\ipykernel_launcher.py:7: RuntimeWarning: invalid value encountered in multiply\n",
      "  import sys\n"
     ]
    },
    {
     "name": "stdout",
     "output_type": "stream",
     "text": [
      "w = [[ 0.44742342]\n",
      " [ 0.44108719]]\n",
      "b = -53.585401756\n",
      "dw = [[-2.58855836]\n",
      " [-2.31761902]]\n",
      "db = -0.0421442177471\n"
     ]
    }
   ],
   "source": [
    "print(\"w\",w)\n",
    "print('b=',b)\n",
    "#print(X)\n",
    "#print(Y)\n",
    "params, grads, costs = optimize(w, b, X, Y, num_iterations=400000, learning_rate = 0.009, print_cost = False)\n",
    "\n",
    "print (\"w = \" + str(params[\"w\"]))\n",
    "print (\"b = \" + str(params[\"b\"]))\n",
    "print (\"dw = \" + str(grads[\"dw\"]))\n",
    "\n",
    "print (\"db = \" + str(grads[\"db\"]))\n",
    "\n"
   ]
  },
  {
   "cell_type": "code",
   "execution_count": 47,
   "metadata": {},
   "outputs": [
    {
     "data": {
      "image/png": "[encoded data removed]",
      "text/plain": [
       "<matplotlib.figure.Figure at 0x24e430aff28>"
      ]
     },
     "metadata": {},
     "output_type": "display_data"
    }
   ],
   "source": [
    "admitted = df.loc[y == 1]\n",
    "\n",
    "not_admitted = df.loc[y == 0]\n",
    "\n",
    "# plots\n",
    "plt.scatter(admitted.iloc[:, 0], admitted.iloc[:, 1], s=10, label='Admitted')\n",
    "plt.scatter(not_admitted.iloc[:, 0], not_admitted.iloc[:, 1], s=10, label='Not Admitted')\n",
    "#plt.legend()\n",
    "#plt.show()\n",
    "\n",
    "beta=np.array([-53.585401756,0.44742342,0.44108719] )\n",
    "#beta=np.array([-25.16131862, 0.20623159, 0.20147149])      \n",
    "    # plotting points with diff color for diff label \n",
    "#plt.scatter([X.values[:, 1]], [X.values[:, 2]], c='b', label='y = 0') \n",
    "#plt.scatter([x_1[:, 1]], [x_1[:, 2]], c='r', label='y = 1') \n",
    "      \n",
    "    # plotting decision boundary \n",
    "x1 = np.arange(0,100, 0.1) \n",
    "x2 = -(beta[0] + beta[1]*x1)/beta[2] \n",
    "plt.plot(x1, x2, c='k', label='Decision Boundary') \n",
    "  \n",
    "plt.xlabel('x1') \n",
    "plt.ylabel('x2') \n",
    "plt.legend() \n",
    "plt.show() "
   ]
  },
  {
   "cell_type": "code",
   "execution_count": null,
   "metadata": {
    "collapsed": true
   },
   "outputs": [],
   "source": []
  }
 ],
 "metadata": {
  "kernelspec": {
   "display_name": "Python 3",
   "language": "python",
   "name": "python3"
  },
  "language_info": {
   "codemirror_mode": {
    "name": "ipython",
    "version": 3
   },
   "file_extension": ".py",
   "mimetype": "text/x-python",
   "name": "python",
   "nbconvert_exporter": "python",
   "pygments_lexer": "ipython3",
   "version": "3.6.2"
  }
 },
 "nbformat": 4,
 "nbformat_minor": 2
}
